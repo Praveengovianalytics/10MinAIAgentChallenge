{
  "nbformat": 4,
  "nbformat_minor": 0,
  "metadata": {
    "colab": {
      "provenance": [],
      "authorship_tag": "ABX9TyOrwvh4nAk/M971ttzXnHU5",
      "include_colab_link": true
    },
    "kernelspec": {
      "name": "python3",
      "display_name": "Python 3"
    },
    "language_info": {
      "name": "python"
    }
  },
  "cells": [
    {
      "cell_type": "markdown",
      "metadata": {
        "id": "view-in-github",
        "colab_type": "text"
      },
      "source": [
        "<a href=\"https://colab.research.google.com/github/Praveengovianalytics/10MinAIAgentChallenge/blob/main/Smart_Travel_Agent_with_Agentic_AI.ipynb\" target=\"_parent\"><img src=\"https://colab.research.google.com/assets/colab-badge.svg\" alt=\"Open In Colab\"/></a>"
      ]
    },
    {
      "cell_type": "markdown",
      "source": [
        "# 🧠 What is this?\n",
        "Welcome to the #10MinAIAgentChallenge!\n",
        "This notebook demonstrates how to build a smart, agentic travel planner using LangGraph, LangChain, and OpenAI GPT-4 – all within 10 minutes.\n",
        "\n",
        "Whether you're at an airport lounge or brainstorming your next vacation, this AI agent will:\n",
        "\n",
        "📍 Understand your destination & dates\n",
        "\n",
        "📄 Create a 3-day trip outline\n",
        "\n",
        "🔍 Auto-research top highlights using Tavily\n",
        "\n",
        "📋 Generate a detailed daily itinerary"
      ],
      "metadata": {
        "id": "BKi-4IIH2avb"
      }
    },
    {
      "cell_type": "markdown",
      "source": [
        "# Smart Travel Agent with Agentic AI"
      ],
      "metadata": {
        "id": "q1_9WihPwkIM"
      }
    },
    {
      "cell_type": "markdown",
      "source": [
        "### Install necessary libraries"
      ],
      "metadata": {
        "id": "U7WED6P22g0b"
      }
    },
    {
      "cell_type": "code",
      "execution_count": 1,
      "metadata": {
        "colab": {
          "base_uri": "https://localhost:8080/"
        },
        "id": "Xi2UfQeRiy5Q",
        "outputId": "daa6de35-aa74-4449-d5fd-d5f5864e0b90"
      },
      "outputs": [
        {
          "output_type": "stream",
          "name": "stdout",
          "text": [
            "\u001b[2K     \u001b[90m━━━━━━━━━━━━━━━━━━━━━━━━━━━━━━━━━━━━━━━━\u001b[0m \u001b[32m43.7/43.7 kB\u001b[0m \u001b[31m1.9 MB/s\u001b[0m eta \u001b[36m0:00:00\u001b[0m\n",
            "\u001b[2K   \u001b[90m━━━━━━━━━━━━━━━━━━━━━━━━━━━━━━━━━━━━━━━━\u001b[0m \u001b[32m65.3/65.3 kB\u001b[0m \u001b[31m4.8 MB/s\u001b[0m eta \u001b[36m0:00:00\u001b[0m\n",
            "\u001b[2K   \u001b[90m━━━━━━━━━━━━━━━━━━━━━━━━━━━━━━━━━━━━━━━━\u001b[0m \u001b[32m152.4/152.4 kB\u001b[0m \u001b[31m9.2 MB/s\u001b[0m eta \u001b[36m0:00:00\u001b[0m\n",
            "\u001b[2K   \u001b[90m━━━━━━━━━━━━━━━━━━━━━━━━━━━━━━━━━━━━━━━━\u001b[0m \u001b[32m2.5/2.5 MB\u001b[0m \u001b[31m51.8 MB/s\u001b[0m eta \u001b[36m0:00:00\u001b[0m\n",
            "\u001b[2K   \u001b[90m━━━━━━━━━━━━━━━━━━━━━━━━━━━━━━━━━━━━━━━━\u001b[0m \u001b[32m438.1/438.1 kB\u001b[0m \u001b[31m25.5 MB/s\u001b[0m eta \u001b[36m0:00:00\u001b[0m\n",
            "\u001b[2K   \u001b[90m━━━━━━━━━━━━━━━━━━━━━━━━━━━━━━━━━━━━━━━━\u001b[0m \u001b[32m44.2/44.2 kB\u001b[0m \u001b[31m2.5 MB/s\u001b[0m eta \u001b[36m0:00:00\u001b[0m\n",
            "\u001b[2K   \u001b[90m━━━━━━━━━━━━━━━━━━━━━━━━━━━━━━━━━━━━━━━━\u001b[0m \u001b[32m50.0/50.0 kB\u001b[0m \u001b[31m3.6 MB/s\u001b[0m eta \u001b[36m0:00:00\u001b[0m\n",
            "\u001b[2K   \u001b[90m━━━━━━━━━━━━━━━━━━━━━━━━━━━━━━━━━━━━━━━━\u001b[0m \u001b[32m363.0/363.0 kB\u001b[0m \u001b[31m25.1 MB/s\u001b[0m eta \u001b[36m0:00:00\u001b[0m\n",
            "\u001b[2K   \u001b[90m━━━━━━━━━━━━━━━━━━━━━━━━━━━━━━━━━━━━━━━━\u001b[0m \u001b[32m44.4/44.4 kB\u001b[0m \u001b[31m1.9 MB/s\u001b[0m eta \u001b[36m0:00:00\u001b[0m\n",
            "\u001b[2K   \u001b[90m━━━━━━━━━━━━━━━━━━━━━━━━━━━━━━━━━━━━━━━━\u001b[0m \u001b[32m50.9/50.9 kB\u001b[0m \u001b[31m3.6 MB/s\u001b[0m eta \u001b[36m0:00:00\u001b[0m\n",
            "\u001b[2K   \u001b[90m━━━━━━━━━━━━━━━━━━━━━━━━━━━━━━━━━━━━━━━━\u001b[0m \u001b[32m216.5/216.5 kB\u001b[0m \u001b[31m15.6 MB/s\u001b[0m eta \u001b[36m0:00:00\u001b[0m\n",
            "\u001b[?25h"
          ]
        }
      ],
      "source": [
        "!pip install langchain-openai langgraph python-dotenv langchain-community -q"
      ]
    },
    {
      "cell_type": "markdown",
      "source": [
        "## Install necessary libraries"
      ],
      "metadata": {
        "id": "fGCK0gL82qrV"
      }
    },
    {
      "cell_type": "code",
      "source": [
        "from google.colab import userdata\n",
        "import os\n",
        "from typing import TypedDict, List\n",
        "from dotenv import load_dotenv\n",
        "from langchain_openai import ChatOpenAI\n",
        "from langgraph.graph import StateGraph, START, END\n",
        "from langchain_community.tools.tavily_search import TavilySearchResults"
      ],
      "metadata": {
        "id": "QUXI6_YTjGQd"
      },
      "execution_count": 2,
      "outputs": []
    },
    {
      "cell_type": "markdown",
      "source": [
        "## Set your environment keys securely using userdata"
      ],
      "metadata": {
        "id": "3MN22c1G2o5E"
      }
    },
    {
      "cell_type": "code",
      "source": [
        "# prompt: use os library to set env\n",
        "\n",
        "os.environ[\"OPENAI_API_KEY\"] = userdata.get('OPENAI_API_KEY')\n",
        "os.environ[\"TAVILY_API_KEY\"] = userdata.get('TAVILY_API_KEY')"
      ],
      "metadata": {
        "id": "4LaDf0TVj1k5"
      },
      "execution_count": 7,
      "outputs": []
    },
    {
      "cell_type": "markdown",
      "source": [
        "# Setup GenAI model and Websearch tool"
      ],
      "metadata": {
        "id": "HMuvbd7426vh"
      }
    },
    {
      "cell_type": "markdown",
      "source": [
        "#### Setup account in TAVILY and create API key"
      ],
      "metadata": {
        "id": "rNOVBUQQ3GEu"
      }
    },
    {
      "cell_type": "code",
      "source": [
        "llm = ChatOpenAI(model=\"gpt-4\", temperature=0.7)\n",
        "search_tool = TavilySearchResults(max_results=5, api_key=userdata.get('TAVILY_API_KEY'))"
      ],
      "metadata": {
        "id": "lKNFct-7i2_T"
      },
      "execution_count": 10,
      "outputs": []
    },
    {
      "cell_type": "markdown",
      "source": [
        "## Simple Agentic Workflow"
      ],
      "metadata": {
        "id": "C83oBEnz3Reo"
      }
    },
    {
      "cell_type": "code",
      "source": [
        "class State(TypedDict):\n",
        "    destination: str\n",
        "    dates: str\n",
        "    outline: str\n",
        "    research: List[str]\n",
        "    itinerary: str\n",
        "\n",
        "# 1. Instantiate graph with state schema\n",
        "graph = StateGraph(State)\n",
        "\n",
        "# 2. Define node functions\n",
        "def plan_node(state: State) -> dict:\n",
        "    prompt = (\n",
        "        f\"You are expert travel planner. Create a 5‑day outline for \"\n",
        "        f\"{state['destination']} ({state['dates']}).\"\n",
        "    )\n",
        "    outline = llm.predict(prompt)\n",
        "    return {\"outline\": outline}\n",
        "\n",
        "def research_node(state: State) -> dict:\n",
        "    items = []\n",
        "    for day in state[\"outline\"].splitlines():\n",
        "        q = f\"{state['destination']} {day} highlights\"\n",
        "        snippet = search_tool.invoke(q)[0].get(\"snippet\", \"\")\n",
        "        items.append(snippet)\n",
        "    return {\"research\": items}\n",
        "\n",
        "def generate_node(state: State) -> dict:\n",
        "    content = \"\\n\".join(state[\"research\"])\n",
        "    prompt = (\n",
        "        f\"Outline:\\n{state['outline']}\\n\\nResearch:\\n{content}\\n\\n\"\n",
        "        \"Generate a detailed day‑by‑day itinerary.\"\n",
        "    )\n",
        "    return {\"itinerary\": llm.predict(prompt)}\n",
        "\n",
        "# 3. Add nodes to graph\n",
        "graph.add_node(\"plan\", plan_node)\n",
        "graph.add_node(\"gather_research\", research_node)   # ✅ renamed to avoid conflict\n",
        "graph.add_node(\"generate\", generate_node)\n",
        "\n",
        "# 4. Connect nodes with edges\n",
        "graph.add_edge(START, \"plan\")\n",
        "graph.add_edge(\"plan\", \"gather_research\")          # ✅ updated edge\n",
        "graph.add_edge(\"gather_research\", \"generate\")\n",
        "graph.add_edge(\"generate\", END)\n",
        "\n",
        "# 5. Compile graph\n",
        "planner = graph.compile()\n",
        "\n",
        "# 6. Run\n",
        "def main():\n",
        "    state: State = {\n",
        "        \"destination\": input(\"Destination: \"),\n",
        "        \"dates\": input(\"Dates (e.g. July 1‑5): \"),\n",
        "        \"outline\": \"\",\n",
        "        \"research\": [],\n",
        "        \"itinerary\": \"\"\n",
        "    }\n",
        "    final_state = planner.invoke(state)\n",
        "    print(\"\\n🗓️ Outline:\\n\", final_state[\"outline\"])\n",
        "    print(\"\\n🔍 Research:\\n\", \"\\n\".join(final_state[\"research\"]))\n",
        "    print(\"\\n📋 Itinerary:\\n\", final_state[\"itinerary\"])\n",
        "\n",
        "if __name__ == \"__main__\":\n",
        "    main()"
      ],
      "metadata": {
        "colab": {
          "base_uri": "https://localhost:8080/"
        },
        "id": "uNtQDndui29J",
        "outputId": "0f254780-d84d-41b7-8c0e-d18d7e10a88e"
      },
      "execution_count": 16,
      "outputs": [
        {
          "output_type": "stream",
          "name": "stdout",
          "text": [
            "\n",
            "🗓️ Outline:\n",
            " Day 1 - June 17:\n",
            "- Morning: Arrival in Colombo. Check-in at the hotel and freshen up.\n",
            "- Afternoon: Start your tour with a visit to the National Museum of Colombo to understand the rich history and culture of Sri Lanka.\n",
            "- Evening: Visit the Gangaramaya Buddhist Temple, a mix of Indian, Thai, and Chinese architecture. \n",
            "\n",
            "Day 2 - June 18:\n",
            "- Morning: Visit the Pettah Market, a bustling local market where you can buy everything from textiles to electronics and food items.\n",
            "- Afternoon: Head to the Galle Face Green, a beautiful promenade along the Indian Ocean. Enjoy local food at the street stalls.\n",
            "- Evening: Visit the Old Dutch Hospital, now a shopping and dining complex. Enjoy dinner at one of the restaurants there.\n",
            "\n",
            "Day 3 - June 19:\n",
            "- Morning: Visit the Colombo Dutch Museum and the Wolvendaal Church for some historical exploration.\n",
            "- Afternoon: Visit the Viharamahadevi Park, the largest park in Colombo. \n",
            "- Evening: Free time for shopping or exploring the city at your own pace. \n",
            "\n",
            "Day 4 - June 20:\n",
            "- Morning: Visit the Kelaniya Raja Maha Vihara, a Buddhist temple.\n",
            "- Afternoon: Visit the Dehiwala Zoo, home to a variety of animals and bird species.\n",
            "- Evening: Explore the nightlife of Colombo - visit a local bar or club.\n",
            "\n",
            "Day 5 - June 21:\n",
            "- Morning: Visit the Colombo Lotus Tower, the tallest self-supported structure in South Asia. Enjoy panoramic views of the city from the observation deck.\n",
            "- Afternoon: Visit the Jami Ul-Alfar Mosque, one of the oldest mosques in Colombo.\n",
            "- Evening: Last-minute shopping or city exploration before preparing to depart the next day.\n",
            "  \n",
            "Please note that this itinerary can be modified based on your personal interests and preferences. Also, keep in mind to check the opening times and days for each attraction as they can vary.\n",
            "\n",
            "🔍 Research:\n",
            " \n",
            "\n",
            "\n",
            "\n",
            "\n",
            "\n",
            "\n",
            "\n",
            "\n",
            "\n",
            "\n",
            "\n",
            "\n",
            "\n",
            "\n",
            "\n",
            "\n",
            "\n",
            "\n",
            "\n",
            "\n",
            "\n",
            "\n",
            "\n",
            "\n",
            "\n",
            "\n",
            "📋 Itinerary:\n",
            " Day 1 - June 17:\n",
            "- Morning: Arrive in the vibrant city of Colombo, Sri Lanka. Transfer to your hotel, check-in, and freshen up before your exciting exploration begins.\n",
            "- Afternoon: Pay a visit to the National Museum of Colombo. It's the largest museum in Sri Lanka and holds the nation's most important collection of antiques and artifacts that reflect the rich history and culture of the country.\n",
            "- Evening: Head to the Gangaramaya Buddhist Temple, which showcases a striking blend of Indian, Thai, and Chinese architectural styles. The temple complex consists of several buildings filled with engraved artifacts, statues, and a library.\n",
            "\n",
            "Day 2 - June 18:\n",
            "- Morning: Begin your day with a visit to Pettah Market, a traditional bazaar where you can find a vast array of goods, including textiles, electronics, and fresh produce. \n",
            "- Afternoon: Stroll along the Galle Face Green, a beautiful ocean-side urban park that stretches half a kilometer along the coast. Enjoy the local street food vendors for a tasty lunch.\n",
            "- Evening: Your next stop is the Old Dutch Hospital, a colonial-era building that's now a shopping and dining complex. Treat yourself to a delicious dinner at one of the restaurants in this charming setting.\n",
            "\n",
            "Day 3 - June 19:\n",
            "- Morning: Start your day with a trip to the Colombo Dutch Museum, a restored Dutch colonial mansion that exhibits the Dutch colonial period in Sri Lanka. Follow this with a visit to the Wolvendaal Church, one of the oldest Protestant churches in the country.\n",
            "- Afternoon: Spend a relaxing afternoon at the Viharamahadevi Park, the largest park in Colombo. It's a great place to relax, with beautifully maintained gardens, a zoo, and a children's play area.\n",
            "- Evening: Take this free time to do some shopping or further explore the city at your own pace. \n",
            "\n",
            "Day 4 - June 20:\n",
            "- Morning: Visit the Kelaniya Raja Maha Vihara, a historic Buddhist temple. It's believed to be the site where the Buddha preached 2,600 years ago.\n",
            "- Afternoon: Head to the Dehiwala Zoo, home to a myriad of animals and bird species. It's a great place for families, with a variety of exhibits and shows.\n",
            "- Evening: Experience Colombo's vibrant nightlife by visiting a popular local bar or club. \n",
            "\n",
            "Day 5 - June 21:\n",
            "- Morning: Start your day with a visit to the Colombo Lotus Tower. Standing at 350 meters, it's the tallest self-supported structure in South Asia. The observation deck offers panoramic views of the city.\n",
            "- Afternoon: Visit the Jami Ul-Alfar Mosque, one of the oldest mosques in Colombo. This mosque, with its distinctive red and white brickwork, is an iconic part of the Colombo skyline.\n",
            "- Evening: Spend your last evening in Colombo doing some last-minute shopping or exploring more of the city before you prepare to depart the next day.\n",
            "\n",
            "Remember, this itinerary is flexible and can be modified based on your personal interests and preferences. It's also important to check the opening times and days for each attraction, as they can vary.\n"
          ]
        }
      ]
    },
    {
      "cell_type": "code",
      "source": [],
      "metadata": {
        "id": "_snxVGaXi26R"
      },
      "execution_count": null,
      "outputs": []
    }
  ]
}